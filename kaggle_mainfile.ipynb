{
  "cells": [
    {
      "cell_type": "markdown",
      "id": "d2cf6bb5-4fd1-4653-9178-6ab489851d89",
      "metadata": {
        "id": "d2cf6bb5-4fd1-4653-9178-6ab489851d89"
      },
      "source": [
        "<h2> Загрузка библиотек и данных</h2>"
      ]
    },
    {
      "cell_type": "code",
      "execution_count": null,
      "id": "f2ad81b8-1257-47b5-8722-1085f095f1c3",
      "metadata": {
        "id": "f2ad81b8-1257-47b5-8722-1085f095f1c3"
      },
      "outputs": [],
      "source": [
        "import numpy as np\n",
        "import pandas as pd\n",
        "import seaborn as sns\n",
        "from sklearn.model_selection import train_test_split"
      ]
    },
    {
      "cell_type": "code",
      "execution_count": null,
      "id": "a4760fc7-aa00-4019-ae0b-2282ec1a896a",
      "metadata": {
        "id": "a4760fc7-aa00-4019-ae0b-2282ec1a896a"
      },
      "outputs": [],
      "source": [
        "data = pd.read_csv('X_train.csv')\n",
        "data_ans = pd.read_csv('y_train.csv')\n",
        "data_for_test = pd.read_csv('X_test.csv')"
      ]
    },
    {
      "cell_type": "markdown",
      "id": "cc002b57-d047-4c16-be13-462f2b5139ef",
      "metadata": {
        "id": "cc002b57-d047-4c16-be13-462f2b5139ef"
      },
      "source": [
        "<h2> Первичная обработка </h2>"
      ]
    },
    {
      "cell_type": "code",
      "execution_count": null,
      "id": "26befcef-8762-408e-b75d-c36db760ea04",
      "metadata": {
        "id": "26befcef-8762-408e-b75d-c36db760ea04",
        "outputId": "b1726902-c5af-400d-dda3-72bf5531d150"
      },
      "outputs": [
        {
          "data": {
            "text/plain": [
              "Index(['Unnamed: 0', 'Avg. Area Income', 'Avg. Area House Age',\n",
              "       'Avg. Area Number of Rooms', 'Avg. Area Number of Bedrooms',\n",
              "       'Area Population', 'Address'],\n",
              "      dtype='object')"
            ]
          },
          "execution_count": 22,
          "metadata": {},
          "output_type": "execute_result"
        }
      ],
      "source": [
        "data.columns"
      ]
    },
    {
      "cell_type": "code",
      "execution_count": null,
      "id": "adcce7c0-043c-4936-8914-c4657f7a2ba1",
      "metadata": {
        "id": "adcce7c0-043c-4936-8914-c4657f7a2ba1",
        "outputId": "7a5337cf-111b-44f7-f06b-acc99687b46f"
      },
      "outputs": [
        {
          "data": {
            "text/html": [
              "<div>\n",
              "<style scoped>\n",
              "    .dataframe tbody tr th:only-of-type {\n",
              "        vertical-align: middle;\n",
              "    }\n",
              "\n",
              "    .dataframe tbody tr th {\n",
              "        vertical-align: top;\n",
              "    }\n",
              "\n",
              "    .dataframe thead th {\n",
              "        text-align: right;\n",
              "    }\n",
              "</style>\n",
              "<table border=\"1\" class=\"dataframe\">\n",
              "  <thead>\n",
              "    <tr style=\"text-align: right;\">\n",
              "      <th></th>\n",
              "      <th>Unnamed: 0</th>\n",
              "      <th>Avg. Area Income</th>\n",
              "      <th>Avg. Area House Age</th>\n",
              "      <th>Avg. Area Number of Rooms</th>\n",
              "      <th>Avg. Area Number of Bedrooms</th>\n",
              "      <th>Area Population</th>\n",
              "      <th>Address</th>\n",
              "    </tr>\n",
              "  </thead>\n",
              "  <tbody>\n",
              "    <tr>\n",
              "      <th>0</th>\n",
              "      <td>0</td>\n",
              "      <td>71043.313249</td>\n",
              "      <td>6.046182</td>\n",
              "      <td>6.095862</td>\n",
              "      <td>3.34</td>\n",
              "      <td>20763.604137</td>\n",
              "      <td>80638 Samantha Village\\nNorth Anthony, KS 5865...</td>\n",
              "    </tr>\n",
              "    <tr>\n",
              "      <th>1</th>\n",
              "      <td>1</td>\n",
              "      <td>65632.925982</td>\n",
              "      <td>6.420381</td>\n",
              "      <td>5.929531</td>\n",
              "      <td>4.43</td>\n",
              "      <td>42803.221409</td>\n",
              "      <td>76258 Miller Station Suite 386\\nLake Heatherpo...</td>\n",
              "    </tr>\n",
              "    <tr>\n",
              "      <th>2</th>\n",
              "      <td>2</td>\n",
              "      <td>74960.767664</td>\n",
              "      <td>6.467532</td>\n",
              "      <td>6.483896</td>\n",
              "      <td>3.27</td>\n",
              "      <td>35918.893782</td>\n",
              "      <td>7925 Rebecca Cliff Apt. 790\\nEast Amanda, OH 8...</td>\n",
              "    </tr>\n",
              "    <tr>\n",
              "      <th>3</th>\n",
              "      <td>3</td>\n",
              "      <td>71309.250170</td>\n",
              "      <td>7.513611</td>\n",
              "      <td>8.409303</td>\n",
              "      <td>4.35</td>\n",
              "      <td>32356.997377</td>\n",
              "      <td>701 Michael Courts\\nLake Diamondchester, ND 59...</td>\n",
              "    </tr>\n",
              "    <tr>\n",
              "      <th>4</th>\n",
              "      <td>4</td>\n",
              "      <td>68898.345913</td>\n",
              "      <td>6.787649</td>\n",
              "      <td>7.871353</td>\n",
              "      <td>6.39</td>\n",
              "      <td>39515.571562</td>\n",
              "      <td>777 Ross Crossroad\\nKaiserville, RI 24445</td>\n",
              "    </tr>\n",
              "  </tbody>\n",
              "</table>\n",
              "</div>"
            ],
            "text/plain": [
              "   Unnamed: 0  Avg. Area Income  Avg. Area House Age  \\\n",
              "0           0      71043.313249             6.046182   \n",
              "1           1      65632.925982             6.420381   \n",
              "2           2      74960.767664             6.467532   \n",
              "3           3      71309.250170             7.513611   \n",
              "4           4      68898.345913             6.787649   \n",
              "\n",
              "   Avg. Area Number of Rooms  Avg. Area Number of Bedrooms  Area Population  \\\n",
              "0                   6.095862                          3.34     20763.604137   \n",
              "1                   5.929531                          4.43     42803.221409   \n",
              "2                   6.483896                          3.27     35918.893782   \n",
              "3                   8.409303                          4.35     32356.997377   \n",
              "4                   7.871353                          6.39     39515.571562   \n",
              "\n",
              "                                             Address  \n",
              "0  80638 Samantha Village\\nNorth Anthony, KS 5865...  \n",
              "1  76258 Miller Station Suite 386\\nLake Heatherpo...  \n",
              "2  7925 Rebecca Cliff Apt. 790\\nEast Amanda, OH 8...  \n",
              "3  701 Michael Courts\\nLake Diamondchester, ND 59...  \n",
              "4          777 Ross Crossroad\\nKaiserville, RI 24445  "
            ]
          },
          "execution_count": 23,
          "metadata": {},
          "output_type": "execute_result"
        }
      ],
      "source": [
        "data.head(5)"
      ]
    },
    {
      "cell_type": "code",
      "execution_count": null,
      "id": "fd2e68e3-e7f1-46b6-9a27-3c4aa0dbb0d3",
      "metadata": {
        "id": "fd2e68e3-e7f1-46b6-9a27-3c4aa0dbb0d3",
        "outputId": "85f3cd81-2b68-4ff5-90fd-2d0f7557f077"
      },
      "outputs": [
        {
          "data": {
            "text/plain": [
              "(3500, 7)"
            ]
          },
          "execution_count": 24,
          "metadata": {},
          "output_type": "execute_result"
        }
      ],
      "source": [
        "data.shape"
      ]
    },
    {
      "cell_type": "code",
      "execution_count": null,
      "id": "5e10b0dd-dd11-445d-b90b-057b6084503c",
      "metadata": {
        "id": "5e10b0dd-dd11-445d-b90b-057b6084503c",
        "outputId": "87406ccc-17cf-4eca-e698-6e929f95afa8"
      },
      "outputs": [
        {
          "data": {
            "text/plain": [
              "Unnamed: 0                      False\n",
              "Avg. Area Income                False\n",
              "Avg. Area House Age             False\n",
              "Avg. Area Number of Rooms       False\n",
              "Avg. Area Number of Bedrooms    False\n",
              "Area Population                 False\n",
              "Address                         False\n",
              "dtype: bool"
            ]
          },
          "execution_count": 25,
          "metadata": {},
          "output_type": "execute_result"
        }
      ],
      "source": [
        "data.isnull().any()"
      ]
    },
    {
      "cell_type": "code",
      "execution_count": null,
      "id": "929e00b9-ee80-42fb-a12a-c8561b7f05b6",
      "metadata": {
        "id": "929e00b9-ee80-42fb-a12a-c8561b7f05b6",
        "outputId": "7b1da5b5-446f-4615-e613-b87fccd98d45"
      },
      "outputs": [
        {
          "data": {
            "text/plain": [
              "array(['80638 Samantha Village\\nNorth Anthony, KS 58656-6462',\n",
              "       '76258 Miller Station Suite 386\\nLake Heatherport, NM 29988',\n",
              "       '7925 Rebecca Cliff Apt. 790\\nEast Amanda, OH 89218-7005', ...,\n",
              "       'PSC 1520, Box 7020\\nAPO AE 71780-5009',\n",
              "       '8337 Cody Fields Apt. 592\\nTinafurt, GU 56684-5907',\n",
              "       '785 Patel Knolls Suite 740\\nSouth Stacey, VI 42709-5391'],\n",
              "      dtype=object)"
            ]
          },
          "execution_count": 26,
          "metadata": {},
          "output_type": "execute_result"
        }
      ],
      "source": [
        "data['Address'].values"
      ]
    },
    {
      "cell_type": "code",
      "execution_count": null,
      "id": "91787431-72a7-4b30-9f9e-36418df6d215",
      "metadata": {
        "id": "91787431-72a7-4b30-9f9e-36418df6d215"
      },
      "outputs": [],
      "source": [
        "merged_df = pd.merge(data, data_ans, on='Unnamed: 0')"
      ]
    },
    {
      "cell_type": "code",
      "execution_count": null,
      "id": "2cedb0d3-8768-4db0-923f-86d00de428f1",
      "metadata": {
        "id": "2cedb0d3-8768-4db0-923f-86d00de428f1",
        "outputId": "f458ba2d-6d88-49dd-e34c-9f2ab0d4bb79"
      },
      "outputs": [
        {
          "data": {
            "text/html": [
              "<div>\n",
              "<style scoped>\n",
              "    .dataframe tbody tr th:only-of-type {\n",
              "        vertical-align: middle;\n",
              "    }\n",
              "\n",
              "    .dataframe tbody tr th {\n",
              "        vertical-align: top;\n",
              "    }\n",
              "\n",
              "    .dataframe thead th {\n",
              "        text-align: right;\n",
              "    }\n",
              "</style>\n",
              "<table border=\"1\" class=\"dataframe\">\n",
              "  <thead>\n",
              "    <tr style=\"text-align: right;\">\n",
              "      <th></th>\n",
              "      <th>Unnamed: 0</th>\n",
              "      <th>Avg. Area Income</th>\n",
              "      <th>Avg. Area House Age</th>\n",
              "      <th>Avg. Area Number of Rooms</th>\n",
              "      <th>Avg. Area Number of Bedrooms</th>\n",
              "      <th>Area Population</th>\n",
              "      <th>Address</th>\n",
              "      <th>Price</th>\n",
              "    </tr>\n",
              "  </thead>\n",
              "  <tbody>\n",
              "    <tr>\n",
              "      <th>0</th>\n",
              "      <td>0</td>\n",
              "      <td>71043.313249</td>\n",
              "      <td>6.046182</td>\n",
              "      <td>6.095862</td>\n",
              "      <td>3.34</td>\n",
              "      <td>20763.604137</td>\n",
              "      <td>80638 Samantha Village\\nNorth Anthony, KS 5865...</td>\n",
              "      <td>9.551656e+05</td>\n",
              "    </tr>\n",
              "    <tr>\n",
              "      <th>1</th>\n",
              "      <td>1</td>\n",
              "      <td>65632.925982</td>\n",
              "      <td>6.420381</td>\n",
              "      <td>5.929531</td>\n",
              "      <td>4.43</td>\n",
              "      <td>42803.221409</td>\n",
              "      <td>76258 Miller Station Suite 386\\nLake Heatherpo...</td>\n",
              "      <td>1.184527e+06</td>\n",
              "    </tr>\n",
              "    <tr>\n",
              "      <th>2</th>\n",
              "      <td>2</td>\n",
              "      <td>74960.767664</td>\n",
              "      <td>6.467532</td>\n",
              "      <td>6.483896</td>\n",
              "      <td>3.27</td>\n",
              "      <td>35918.893782</td>\n",
              "      <td>7925 Rebecca Cliff Apt. 790\\nEast Amanda, OH 8...</td>\n",
              "      <td>1.268135e+06</td>\n",
              "    </tr>\n",
              "  </tbody>\n",
              "</table>\n",
              "</div>"
            ],
            "text/plain": [
              "   Unnamed: 0  Avg. Area Income  Avg. Area House Age  \\\n",
              "0           0      71043.313249             6.046182   \n",
              "1           1      65632.925982             6.420381   \n",
              "2           2      74960.767664             6.467532   \n",
              "\n",
              "   Avg. Area Number of Rooms  Avg. Area Number of Bedrooms  Area Population  \\\n",
              "0                   6.095862                          3.34     20763.604137   \n",
              "1                   5.929531                          4.43     42803.221409   \n",
              "2                   6.483896                          3.27     35918.893782   \n",
              "\n",
              "                                             Address         Price  \n",
              "0  80638 Samantha Village\\nNorth Anthony, KS 5865...  9.551656e+05  \n",
              "1  76258 Miller Station Suite 386\\nLake Heatherpo...  1.184527e+06  \n",
              "2  7925 Rebecca Cliff Apt. 790\\nEast Amanda, OH 8...  1.268135e+06  "
            ]
          },
          "execution_count": 28,
          "metadata": {},
          "output_type": "execute_result"
        }
      ],
      "source": [
        "merged_df.head(3)"
      ]
    },
    {
      "cell_type": "code",
      "execution_count": null,
      "id": "529b3197-02f8-44e7-a134-44129fd239db",
      "metadata": {
        "id": "529b3197-02f8-44e7-a134-44129fd239db"
      },
      "outputs": [],
      "source": [
        "merged_df = merged_df.rename(columns={'Unnamed: 0': 'index',\n",
        "                          'Avg. Area Income': 'income',\n",
        "                          'Avg. Area House Age': 'age',\n",
        "                          'Avg. Area Number of Bedrooms': 'number_bedrooms',\n",
        "                          'Area Population': 'population',\n",
        "                         'Avg. Area Number of Rooms': 'number_rooms'})"
      ]
    },
    {
      "cell_type": "code",
      "execution_count": null,
      "id": "33ad7a16-726b-4047-8990-3757e7bf31ee",
      "metadata": {
        "id": "33ad7a16-726b-4047-8990-3757e7bf31ee"
      },
      "outputs": [],
      "source": [
        "merged_df = merged_df.drop(['Address', 'index'], axis=1)"
      ]
    },
    {
      "cell_type": "code",
      "execution_count": null,
      "id": "f65cd9f0-64b7-441f-ae33-774e020a621e",
      "metadata": {
        "id": "f65cd9f0-64b7-441f-ae33-774e020a621e",
        "outputId": "4eb410f5-118b-4e2c-d333-13fde3d29f4b"
      },
      "outputs": [
        {
          "data": {
            "text/html": [
              "<div>\n",
              "<style scoped>\n",
              "    .dataframe tbody tr th:only-of-type {\n",
              "        vertical-align: middle;\n",
              "    }\n",
              "\n",
              "    .dataframe tbody tr th {\n",
              "        vertical-align: top;\n",
              "    }\n",
              "\n",
              "    .dataframe thead th {\n",
              "        text-align: right;\n",
              "    }\n",
              "</style>\n",
              "<table border=\"1\" class=\"dataframe\">\n",
              "  <thead>\n",
              "    <tr style=\"text-align: right;\">\n",
              "      <th></th>\n",
              "      <th>income</th>\n",
              "      <th>age</th>\n",
              "      <th>number_rooms</th>\n",
              "      <th>number_bedrooms</th>\n",
              "      <th>population</th>\n",
              "      <th>Price</th>\n",
              "    </tr>\n",
              "  </thead>\n",
              "  <tbody>\n",
              "    <tr>\n",
              "      <th>0</th>\n",
              "      <td>71043.313249</td>\n",
              "      <td>6.046182</td>\n",
              "      <td>6.095862</td>\n",
              "      <td>3.34</td>\n",
              "      <td>20763.604137</td>\n",
              "      <td>9.551656e+05</td>\n",
              "    </tr>\n",
              "    <tr>\n",
              "      <th>1</th>\n",
              "      <td>65632.925982</td>\n",
              "      <td>6.420381</td>\n",
              "      <td>5.929531</td>\n",
              "      <td>4.43</td>\n",
              "      <td>42803.221409</td>\n",
              "      <td>1.184527e+06</td>\n",
              "    </tr>\n",
              "    <tr>\n",
              "      <th>2</th>\n",
              "      <td>74960.767664</td>\n",
              "      <td>6.467532</td>\n",
              "      <td>6.483896</td>\n",
              "      <td>3.27</td>\n",
              "      <td>35918.893782</td>\n",
              "      <td>1.268135e+06</td>\n",
              "    </tr>\n",
              "    <tr>\n",
              "      <th>3</th>\n",
              "      <td>71309.250170</td>\n",
              "      <td>7.513611</td>\n",
              "      <td>8.409303</td>\n",
              "      <td>4.35</td>\n",
              "      <td>32356.997377</td>\n",
              "      <td>1.752968e+06</td>\n",
              "    </tr>\n",
              "    <tr>\n",
              "      <th>4</th>\n",
              "      <td>68898.345913</td>\n",
              "      <td>6.787649</td>\n",
              "      <td>7.871353</td>\n",
              "      <td>6.39</td>\n",
              "      <td>39515.571562</td>\n",
              "      <td>1.530124e+06</td>\n",
              "    </tr>\n",
              "  </tbody>\n",
              "</table>\n",
              "</div>"
            ],
            "text/plain": [
              "         income       age  number_rooms  number_bedrooms    population  \\\n",
              "0  71043.313249  6.046182      6.095862             3.34  20763.604137   \n",
              "1  65632.925982  6.420381      5.929531             4.43  42803.221409   \n",
              "2  74960.767664  6.467532      6.483896             3.27  35918.893782   \n",
              "3  71309.250170  7.513611      8.409303             4.35  32356.997377   \n",
              "4  68898.345913  6.787649      7.871353             6.39  39515.571562   \n",
              "\n",
              "          Price  \n",
              "0  9.551656e+05  \n",
              "1  1.184527e+06  \n",
              "2  1.268135e+06  \n",
              "3  1.752968e+06  \n",
              "4  1.530124e+06  "
            ]
          },
          "execution_count": 31,
          "metadata": {},
          "output_type": "execute_result"
        }
      ],
      "source": [
        "merged_df.head()"
      ]
    },
    {
      "cell_type": "markdown",
      "id": "83ad0d4c-a018-4a4b-a8ab-4205c09a9d87",
      "metadata": {
        "id": "83ad0d4c-a018-4a4b-a8ab-4205c09a9d87"
      },
      "source": [
        "<h2> Модель и загрузка решения </h2>"
      ]
    },
    {
      "cell_type": "code",
      "execution_count": null,
      "id": "862f7eec-58ac-41b0-b9f5-4bfa0bd7bb8b",
      "metadata": {
        "id": "862f7eec-58ac-41b0-b9f5-4bfa0bd7bb8b",
        "outputId": "9902e1a0-d73e-4432-e28a-f928ac5b436a"
      },
      "outputs": [
        {
          "data": {
            "text/html": [
              "<style>#sk-container-id-2 {color: black;}#sk-container-id-2 pre{padding: 0;}#sk-container-id-2 div.sk-toggleable {background-color: white;}#sk-container-id-2 label.sk-toggleable__label {cursor: pointer;display: block;width: 100%;margin-bottom: 0;padding: 0.3em;box-sizing: border-box;text-align: center;}#sk-container-id-2 label.sk-toggleable__label-arrow:before {content: \"▸\";float: left;margin-right: 0.25em;color: #696969;}#sk-container-id-2 label.sk-toggleable__label-arrow:hover:before {color: black;}#sk-container-id-2 div.sk-estimator:hover label.sk-toggleable__label-arrow:before {color: black;}#sk-container-id-2 div.sk-toggleable__content {max-height: 0;max-width: 0;overflow: hidden;text-align: left;background-color: #f0f8ff;}#sk-container-id-2 div.sk-toggleable__content pre {margin: 0.2em;color: black;border-radius: 0.25em;background-color: #f0f8ff;}#sk-container-id-2 input.sk-toggleable__control:checked~div.sk-toggleable__content {max-height: 200px;max-width: 100%;overflow: auto;}#sk-container-id-2 input.sk-toggleable__control:checked~label.sk-toggleable__label-arrow:before {content: \"▾\";}#sk-container-id-2 div.sk-estimator input.sk-toggleable__control:checked~label.sk-toggleable__label {background-color: #d4ebff;}#sk-container-id-2 div.sk-label input.sk-toggleable__control:checked~label.sk-toggleable__label {background-color: #d4ebff;}#sk-container-id-2 input.sk-hidden--visually {border: 0;clip: rect(1px 1px 1px 1px);clip: rect(1px, 1px, 1px, 1px);height: 1px;margin: -1px;overflow: hidden;padding: 0;position: absolute;width: 1px;}#sk-container-id-2 div.sk-estimator {font-family: monospace;background-color: #f0f8ff;border: 1px dotted black;border-radius: 0.25em;box-sizing: border-box;margin-bottom: 0.5em;}#sk-container-id-2 div.sk-estimator:hover {background-color: #d4ebff;}#sk-container-id-2 div.sk-parallel-item::after {content: \"\";width: 100%;border-bottom: 1px solid gray;flex-grow: 1;}#sk-container-id-2 div.sk-label:hover label.sk-toggleable__label {background-color: #d4ebff;}#sk-container-id-2 div.sk-serial::before {content: \"\";position: absolute;border-left: 1px solid gray;box-sizing: border-box;top: 0;bottom: 0;left: 50%;z-index: 0;}#sk-container-id-2 div.sk-serial {display: flex;flex-direction: column;align-items: center;background-color: white;padding-right: 0.2em;padding-left: 0.2em;position: relative;}#sk-container-id-2 div.sk-item {position: relative;z-index: 1;}#sk-container-id-2 div.sk-parallel {display: flex;align-items: stretch;justify-content: center;background-color: white;position: relative;}#sk-container-id-2 div.sk-item::before, #sk-container-id-2 div.sk-parallel-item::before {content: \"\";position: absolute;border-left: 1px solid gray;box-sizing: border-box;top: 0;bottom: 0;left: 50%;z-index: -1;}#sk-container-id-2 div.sk-parallel-item {display: flex;flex-direction: column;z-index: 1;position: relative;background-color: white;}#sk-container-id-2 div.sk-parallel-item:first-child::after {align-self: flex-end;width: 50%;}#sk-container-id-2 div.sk-parallel-item:last-child::after {align-self: flex-start;width: 50%;}#sk-container-id-2 div.sk-parallel-item:only-child::after {width: 0;}#sk-container-id-2 div.sk-dashed-wrapped {border: 1px dashed gray;margin: 0 0.4em 0.5em 0.4em;box-sizing: border-box;padding-bottom: 0.4em;background-color: white;}#sk-container-id-2 div.sk-label label {font-family: monospace;font-weight: bold;display: inline-block;line-height: 1.2em;}#sk-container-id-2 div.sk-label-container {text-align: center;}#sk-container-id-2 div.sk-container {/* jupyter's `normalize.less` sets `[hidden] { display: none; }` but bootstrap.min.css set `[hidden] { display: none !important; }` so we also need the `!important` here to be able to override the default hidden behavior on the sphinx rendered scikit-learn.org. See: https://github.com/scikit-learn/scikit-learn/issues/21755 */display: inline-block !important;position: relative;}#sk-container-id-2 div.sk-text-repr-fallback {display: none;}</style><div id=\"sk-container-id-2\" class=\"sk-top-container\"><div class=\"sk-text-repr-fallback\"><pre>LinearRegression()</pre><b>In a Jupyter environment, please rerun this cell to show the HTML representation or trust the notebook. <br />On GitHub, the HTML representation is unable to render, please try loading this page with nbviewer.org.</b></div><div class=\"sk-container\" hidden><div class=\"sk-item\"><div class=\"sk-estimator sk-toggleable\"><input class=\"sk-toggleable__control sk-hidden--visually\" id=\"sk-estimator-id-2\" type=\"checkbox\" checked><label for=\"sk-estimator-id-2\" class=\"sk-toggleable__label sk-toggleable__label-arrow\">LinearRegression</label><div class=\"sk-toggleable__content\"><pre>LinearRegression()</pre></div></div></div></div></div>"
            ],
            "text/plain": [
              "LinearRegression()"
            ]
          },
          "execution_count": 32,
          "metadata": {},
          "output_type": "execute_result"
        }
      ],
      "source": [
        "from sklearn.linear_model import Ridge\n",
        "from sklearn.preprocessing import StandardScaler\n",
        "from sklearn.linear_model import LinearRegression\n",
        "\n",
        "\n",
        "X = merged_df.drop('Price', axis=1)\n",
        "y = merged_df['Price']\n",
        "\n",
        "\n",
        "scaler = StandardScaler()\n",
        "X_scaled = scaler.fit_transform(X)\n",
        "\n",
        "ridge = Ridge(alpha=42.0)\n",
        "ridge.fit(X_scaled, y)\n",
        "X_regularized = ridge.predict(X_scaled).reshape(-1, 1)\n",
        "\n",
        "X_train, X_test, y_train, y_test = train_test_split(X_regularized, y, test_size=0.2, random_state=42)\n",
        "\n",
        "linear_regression = LinearRegression()\n",
        "linear_regression.fit(X_train, y_train)\n"
      ]
    },
    {
      "cell_type": "code",
      "execution_count": null,
      "id": "0d3a29f2-372d-414b-9590-37b66cc0f310",
      "metadata": {
        "id": "0d3a29f2-372d-414b-9590-37b66cc0f310"
      },
      "outputs": [],
      "source": [
        "data_for_test = data_for_test.drop(columns=['Address', 'Unnamed: 0'], axis=0)\n",
        "data_for_test = data_for_test.rename(columns={\n",
        "                          'Avg. Area Income': 'income',\n",
        "                          'Avg. Area House Age': 'age',\n",
        "                          'Avg. Area Number of Bedrooms': 'number_bedrooms',\n",
        "                          'Area Population': 'population',\n",
        "                         'Avg. Area Number of Rooms': 'number_rooms'})"
      ]
    },
    {
      "cell_type": "code",
      "execution_count": null,
      "id": "5775aa79-a8dd-4310-b534-e0f7d06eefd2",
      "metadata": {
        "id": "5775aa79-a8dd-4310-b534-e0f7d06eefd2"
      },
      "outputs": [],
      "source": [
        "X_new_scaled = scaler.transform(data_for_test)\n",
        "X_new_regularized = ridge.predict(X_new_scaled).reshape(-1, 1)\n",
        "predictions = linear_regression.predict(X_new_regularized)"
      ]
    },
    {
      "cell_type": "code",
      "execution_count": null,
      "id": "40c83c20-4d6c-4607-a55e-af6aa9a28fcd",
      "metadata": {
        "id": "40c83c20-4d6c-4607-a55e-af6aa9a28fcd"
      },
      "outputs": [],
      "source": [
        "id = [i for i in range(len(predictions))]\n",
        "for_ans = {'id': id, 'Predicted': predictions}"
      ]
    },
    {
      "cell_type": "code",
      "execution_count": null,
      "id": "35395076-af98-46f0-8d98-fc825fe654d0",
      "metadata": {
        "id": "35395076-af98-46f0-8d98-fc825fe654d0"
      },
      "outputs": [],
      "source": [
        "ans = pd.DataFrame(data=for_ans)"
      ]
    },
    {
      "cell_type": "code",
      "execution_count": null,
      "id": "634da8be-4a81-4af9-985e-7d1d14d6dc43",
      "metadata": {
        "id": "634da8be-4a81-4af9-985e-7d1d14d6dc43"
      },
      "outputs": [],
      "source": [
        "ans.to_csv('result.csv', index=False)"
      ]
    },
    {
      "cell_type": "code",
      "execution_count": null,
      "id": "d93a2924-3ef0-426c-a562-b4ce5e247cc8",
      "metadata": {
        "id": "d93a2924-3ef0-426c-a562-b4ce5e247cc8"
      },
      "outputs": [],
      "source": [
        "result = pd.read_csv('result.csv')"
      ]
    },
    {
      "cell_type": "code",
      "execution_count": null,
      "id": "9fc6055e-15b5-488a-8e06-4e0806ec8bb8",
      "metadata": {
        "id": "9fc6055e-15b5-488a-8e06-4e0806ec8bb8",
        "outputId": "138b0758-e098-4e26-e014-5156c1d89af7"
      },
      "outputs": [
        {
          "data": {
            "text/html": [
              "<div>\n",
              "<style scoped>\n",
              "    .dataframe tbody tr th:only-of-type {\n",
              "        vertical-align: middle;\n",
              "    }\n",
              "\n",
              "    .dataframe tbody tr th {\n",
              "        vertical-align: top;\n",
              "    }\n",
              "\n",
              "    .dataframe thead th {\n",
              "        text-align: right;\n",
              "    }\n",
              "</style>\n",
              "<table border=\"1\" class=\"dataframe\">\n",
              "  <thead>\n",
              "    <tr style=\"text-align: right;\">\n",
              "      <th></th>\n",
              "      <th>id</th>\n",
              "      <th>Predicted</th>\n",
              "    </tr>\n",
              "  </thead>\n",
              "  <tbody>\n",
              "    <tr>\n",
              "      <th>0</th>\n",
              "      <td>0</td>\n",
              "      <td>1.117663e+06</td>\n",
              "    </tr>\n",
              "    <tr>\n",
              "      <th>1</th>\n",
              "      <td>1</td>\n",
              "      <td>7.937285e+05</td>\n",
              "    </tr>\n",
              "    <tr>\n",
              "      <th>2</th>\n",
              "      <td>2</td>\n",
              "      <td>1.116337e+06</td>\n",
              "    </tr>\n",
              "    <tr>\n",
              "      <th>3</th>\n",
              "      <td>3</td>\n",
              "      <td>1.548366e+06</td>\n",
              "    </tr>\n",
              "    <tr>\n",
              "      <th>4</th>\n",
              "      <td>4</td>\n",
              "      <td>1.336276e+06</td>\n",
              "    </tr>\n",
              "    <tr>\n",
              "      <th>...</th>\n",
              "      <td>...</td>\n",
              "      <td>...</td>\n",
              "    </tr>\n",
              "    <tr>\n",
              "      <th>1495</th>\n",
              "      <td>1495</td>\n",
              "      <td>1.037727e+06</td>\n",
              "    </tr>\n",
              "    <tr>\n",
              "      <th>1496</th>\n",
              "      <td>1496</td>\n",
              "      <td>1.824481e+06</td>\n",
              "    </tr>\n",
              "    <tr>\n",
              "      <th>1497</th>\n",
              "      <td>1497</td>\n",
              "      <td>1.408153e+06</td>\n",
              "    </tr>\n",
              "    <tr>\n",
              "      <th>1498</th>\n",
              "      <td>1498</td>\n",
              "      <td>1.338865e+06</td>\n",
              "    </tr>\n",
              "    <tr>\n",
              "      <th>1499</th>\n",
              "      <td>1499</td>\n",
              "      <td>9.142697e+05</td>\n",
              "    </tr>\n",
              "  </tbody>\n",
              "</table>\n",
              "<p>1500 rows × 2 columns</p>\n",
              "</div>"
            ],
            "text/plain": [
              "        id     Predicted\n",
              "0        0  1.117663e+06\n",
              "1        1  7.937285e+05\n",
              "2        2  1.116337e+06\n",
              "3        3  1.548366e+06\n",
              "4        4  1.336276e+06\n",
              "...    ...           ...\n",
              "1495  1495  1.037727e+06\n",
              "1496  1496  1.824481e+06\n",
              "1497  1497  1.408153e+06\n",
              "1498  1498  1.338865e+06\n",
              "1499  1499  9.142697e+05\n",
              "\n",
              "[1500 rows x 2 columns]"
            ]
          },
          "execution_count": 39,
          "metadata": {},
          "output_type": "execute_result"
        }
      ],
      "source": [
        "result"
      ]
    },
    {
      "cell_type": "markdown",
      "id": "5cd43ff3-ee5e-4918-9c47-c7c2ebf5eda1",
      "metadata": {
        "id": "5cd43ff3-ee5e-4918-9c47-c7c2ebf5eda1"
      },
      "source": [
        "<h2> Попытка перебора параметров для модели регрессии </h2>"
      ]
    },
    {
      "cell_type": "code",
      "execution_count": null,
      "id": "938659bb-cb21-4677-b56d-9719c2e5a2aa",
      "metadata": {
        "id": "938659bb-cb21-4677-b56d-9719c2e5a2aa",
        "outputId": "f1ef5904-5b65-4db8-fdf2-e65e50603aa6"
      },
      "outputs": [
        {
          "name": "stdout",
          "output_type": "stream",
          "text": [
            "2.6\n"
          ]
        }
      ],
      "source": [
        "from sklearn.linear_model import Ridge\n",
        "from sklearn.model_selection import GridSearchCV\n",
        "\n",
        "ridge = Ridge()\n",
        "alpha = [round(x * 0.1, 1) for x in range(1, 61)]\n",
        "param_grid = {'alpha': alpha}\n",
        "\n",
        "grid_search = GridSearchCV(ridge, param_grid, cv=5)\n",
        "\n",
        "grid_search.fit(X, y)\n",
        "\n",
        "print(grid_search.best_params_['alpha'])"
      ]
    }
  ],
  "metadata": {
    "kernelspec": {
      "display_name": "Python 3 (ipykernel)",
      "language": "python",
      "name": "python3"
    },
    "language_info": {
      "codemirror_mode": {
        "name": "ipython",
        "version": 3
      },
      "file_extension": ".py",
      "mimetype": "text/x-python",
      "name": "python",
      "nbconvert_exporter": "python",
      "pygments_lexer": "ipython3",
      "version": "3.10.11"
    },
    "colab": {
      "provenance": []
    }
  },
  "nbformat": 4,
  "nbformat_minor": 5
}